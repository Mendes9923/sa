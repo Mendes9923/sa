{
 "cells": [
  {
   "cell_type": "code",
   "execution_count": 8,
   "id": "9fe49a23-ecb2-4c48-a00c-de2d747c0406",
   "metadata": {
    "tags": []
   },
   "outputs": [],
   "source": [
    "#NumPy pode ser instalado usando o código:\n",
    "import numpy as np\n"
   ]
  },
  {
   "cell_type": "code",
   "execution_count": 9,
   "id": "20d11e41-ccc8-474d-bf56-7f06f09a8a01",
   "metadata": {
    "tags": []
   },
   "outputs": [
    {
     "ename": "IndentationError",
     "evalue": "unexpected indent (1391213189.py, line 3)",
     "output_type": "error",
     "traceback": [
      "\u001b[1;36m  Cell \u001b[1;32mIn[9], line 3\u001b[1;36m\u001b[0m\n\u001b[1;33m    print(matriz_1 + matriz_2)\u001b[0m\n\u001b[1;37m    ^\u001b[0m\n\u001b[1;31mIndentationError\u001b[0m\u001b[1;31m:\u001b[0m unexpected indent\n"
     ]
    }
   ],
   "source": [
    "matriz_1 = np.array([[7.0, 8.0], [5.0, 1.0]])\n",
    "matriz_2 = np.array([[3.0, 4.0], [4.0, 2.0]])\n",
    "    print(matriz_1 + matriz_2) \n"
   ]
  },
  {
   "cell_type": "code",
   "execution_count": 10,
   "id": "f56e4941-9859-4ed8-8ed2-c0fdf1fc5a76",
   "metadata": {
    "tags": []
   },
   "outputs": [
    {
     "ename": "IndentationError",
     "evalue": "unexpected indent (564466146.py, line 2)",
     "output_type": "error",
     "traceback": [
      "\u001b[1;36m  Cell \u001b[1;32mIn[10], line 2\u001b[1;36m\u001b[0m\n\u001b[1;33m    print(matriz_1 * matriz_2)\u001b[0m\n\u001b[1;37m    ^\u001b[0m\n\u001b[1;31mIndentationError\u001b[0m\u001b[1;31m:\u001b[0m unexpected indent\n"
     ]
    }
   ],
   "source": [
    "#multiplicação de matrizes\n",
    "    print(matriz_1 * matriz_2)"
   ]
  },
  {
   "cell_type": "code",
   "execution_count": 11,
   "id": "a2a9b7f7-2b33-40fc-8fa5-1148f8ddf905",
   "metadata": {
    "tags": []
   },
   "outputs": [
    {
     "name": "stdout",
     "output_type": "stream",
     "text": [
      "deque(['Dom', 'Seg', 'Ter', 'Qua', 'Qui', 'Sex', 'Sab'])\n"
     ]
    }
   ],
   "source": [
    "import collections \n",
    "dias_da_semana = collections.deque([\n",
    "\"Dom\",\n",
    "\"Seg\",\n",
    "\"Ter\",\n",
    "\"Qua\",\n",
    "\"Qui\",\n",
    "\"Sex\",\n",
    "\"Sab\"\n",
    "])\n",
    "print(dias_da_semana) "
   ]
  },
  {
   "cell_type": "code",
   "execution_count": 12,
   "id": "191eed86-a78b-4e5a-8ffd-80b1c304baf7",
   "metadata": {
    "tags": []
   },
   "outputs": [
    {
     "name": "stdout",
     "output_type": "stream",
     "text": [
      "deque(['Dom', 'Seg', 'Ter', 'Qua', 'Qui', 'Sex', 'Sab', 'Janeiro'])\n"
     ]
    }
   ],
   "source": [
    "# Adicionando itens\n",
    "dias_da_semana.append(\"Janeiro\")\n",
    "print(dias_da_semana)  \n",
    "# deque(['Dom', 'Seg', 'Ter', 'Qua', 'Qui', 'Sex', 'Sab', 'Janeiro'])\n"
   ]
  },
  {
   "cell_type": "code",
   "execution_count": 13,
   "id": "c8c0aa35-9f4a-4484-a82a-7f41e275a51b",
   "metadata": {
    "tags": []
   },
   "outputs": [
    {
     "name": "stdout",
     "output_type": "stream",
     "text": [
      "deque(['Seg', 'Ter', 'Qua', 'Qui', 'Sex', 'Sab', 'Janeiro'])\n"
     ]
    }
   ],
   "source": [
    "# Removendo itens da fila\n",
    "dias_da_semana.popleft()\n",
    "print(dias_da_semana)  \n",
    "# deque(['Seg', 'Ter', 'Qua', 'Qui', 'Sex', 'Sab', 'Janeiro'])\n"
   ]
  },
  {
   "cell_type": "code",
   "execution_count": 14,
   "id": "1eab528f-4888-42f6-9372-e0bc4c5287f4",
   "metadata": {
    "tags": []
   },
   "outputs": [
    {
     "name": "stdout",
     "output_type": "stream",
     "text": [
      "deque(['Dom', 'Seg', 'Ter', 'Qua', 'Qui', 'Sex', 'Sab'])\n"
     ]
    }
   ],
   "source": [
    "# Removendo itens da lista [ pilha ]\n",
    "dias_da_semana.pop()\n",
    " \n",
    "# adicione novamente no começo da fila\n",
    "dias_da_semana.appendleft(\"Dom\")\n",
    "print(dias_da_semana)  \n",
    "# deque(['Dom', 'Seg', 'Ter', 'Qua', 'Qui', 'Sex', 'Sab'])\n"
   ]
  },
  {
   "cell_type": "code",
   "execution_count": 15,
   "id": "b5c39e36-57dc-42d0-bb0e-c451b630f4ad",
   "metadata": {
    "tags": []
   },
   "outputs": [
    {
     "name": "stdout",
     "output_type": "stream",
     "text": [
      "Pilha de caixas [1, 2, 3, 4]\n",
      "Inserindo caixa 5 [1, 2, 3, 4, 5]\n",
      "Inserindo caixa 6 [1, 2, 3, 4, 5, 6]\n"
     ]
    }
   ],
   "source": [
    "pilha = [1,2,3,4]\n",
    "print (\"Pilha de caixas\", pilha)\n",
    "\n",
    "# operação de push com o método append()\n",
    "pilha.append(5)\n",
    "print(\"Inserindo caixa 5\", pilha)  # [1, 2, 3, 4, 5]\n",
    "\n",
    "pilha.append(6)\n",
    "print(\"Inserindo caixa 6\", pilha)  # [1, 2, 3, 4, 5, 6]"
   ]
  }
 ],
 "metadata": {
  "kernelspec": {
   "display_name": "Python 3 (ipykernel)",
   "language": "python",
   "name": "python3"
  },
  "language_info": {
   "codemirror_mode": {
    "name": "ipython",
    "version": 3
   },
   "file_extension": ".py",
   "mimetype": "text/x-python",
   "name": "python",
   "nbconvert_exporter": "python",
   "pygments_lexer": "ipython3",
   "version": "3.11.4"
  }
 },
 "nbformat": 4,
 "nbformat_minor": 5
}
